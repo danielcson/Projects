{
 "cells": [
  {
   "cell_type": "markdown",
   "metadata": {},
   "source": [
    "# Project Overview"
   ]
  },
  {
   "cell_type": "markdown",
   "metadata": {},
   "source": [
    "Hello! My project is a task tracker and link saver. I find that most to do apps available are too complex for my liking, and I wanted a very simple one. I mainly designed my project to be how I would like an app to be similar to. \n",
    "\n",
    "The initial_string function allows the input to be more lenient. I'd rather type my inputs in all lowercases, but having the startup prompt of what you can input be capitalized looks nicer. I also tend to have trailing spaces when I type, so this function removes it.\n",
    "\n",
    "I used the text box prompt from the A3 chatbot in my project but otherwise the rest of the code is original. "
   ]
  },
  {
   "cell_type": "code",
   "execution_count": null,
   "metadata": {},
   "outputs": [],
   "source": [
    "from module.functions import *"
   ]
  },
  {
   "cell_type": "code",
   "execution_count": null,
   "metadata": {},
   "outputs": [],
   "source": [
    "# This is the command to run my project. \n",
    "to_do()"
   ]
  },
  {
   "cell_type": "raw",
   "metadata": {},
   "source": [
    "Here is a sample of what it looks like:\n",
    "\n",
    "2020-06-12\n",
    "1. View\n",
    "2. Add\n",
    "3. Save\n",
    "4. Links\n",
    "5. Open\n",
    "6. Drop\n",
    "INPUT :\tADD\n",
    "ITEM :  final project\n",
    "INFO :\tfinish overview \n",
    "DATE :\t11:59 pm\n",
    "INPUT :\tview\n",
    "            Item              Info      Date\n",
    "0  final project  finish overview   11:59 pm\n",
    "INPUT :\tsave\n",
    "URL :\tcogs18.github.io/projects/overview/\n",
    "Note :\tread over before submission\n",
    "INPUT :\tlinks\n",
    "                                 Link                  Description\n",
    "0  cogs18.github.io/projects/overview/  read over before submission\n",
    "INPUT :\t        open\n",
    "OPEN :\t0    # This opens the URL in the default browser\n",
    "INPUT :\topen\n",
    "OPEN :\t0\n",
    "INPUT :\tdrop\n",
    "1.Task 2.Links : 1\n",
    "ROW :\t0\n",
    "Empty DataFrame\n",
    "Columns: [Item, Info, Date]\n",
    "Index: []\n",
    "INPUT :\tdrop\n",
    "1.Task 2.Links : link\n",
    "ROW :\t0\n",
    "Empty DataFrame\n",
    "Columns: [Link, Description]\n",
    "Index: []"
   ]
  },
  {
   "cell_type": "markdown",
   "metadata": {},
   "source": [
    "Outside of the material taught in class, for my project I learned how to use the basics of the pandas dataframe and webbrowser module. I choose to use the pandas dataframe since it made the layout look a bit nicer, and I like the funcionality of the webbrowser module. I tried using more pandas specific things, such as the .drop() function, but they did not work the way I wanted them to so I had to opt for other options. These new concepts took a bit of trial and error since most of the methods I found online produced an error."
   ]
  }
 ],
 "metadata": {
  "kernelspec": {
   "display_name": "Python 3",
   "language": "python",
   "name": "python3"
  },
  "language_info": {
   "codemirror_mode": {
    "name": "ipython",
    "version": 3
   },
   "file_extension": ".py",
   "mimetype": "text/x-python",
   "name": "python",
   "nbconvert_exporter": "python",
   "pygments_lexer": "ipython3",
   "version": "3.7.6"
  }
 },
 "nbformat": 4,
 "nbformat_minor": 4
}
